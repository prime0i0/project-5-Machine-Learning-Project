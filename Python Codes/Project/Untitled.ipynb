{
 "cells": [
  {
   "cell_type": "code",
   "execution_count": 6,
   "id": "7e258fbf-27c0-4161-855e-2d46cfa261bc",
   "metadata": {
    "tags": []
   },
   "outputs": [],
   "source": [
    "import dlib\n",
    "import sys"
   ]
  },
  {
   "cell_type": "code",
   "execution_count": 7,
   "id": "43d14362-8dfb-48c4-a4b8-b5bbe3e633b2",
   "metadata": {
    "tags": []
   },
   "outputs": [],
   "source": [
    "import cv2\n",
    "import face_recognition\n",
    "import os\n",
    "import numpy as np\n",
    "from datetime import datetime\n",
    "import pickle\n",
    "\n",
    "def AttenCall():\n",
    "    path = 'E:\\d\\project - 5 ( Machine Learning Project )\\Python Codes\\Project\\dada_set'\n",
    "\n",
    "\n",
    "    images = []\n",
    "    classNames = []\n",
    "    mylist  = os.listdir(path)\n",
    "\n",
    "    for cl in mylist:\n",
    "        curImg = cv2.imread(f'{path}/{cl}')\n",
    "        images.append(curImg)\n",
    "        classNames.append(os.path.splitext(cl)[0])\n",
    "\n",
    "\n",
    "    def findEncodings(images):\n",
    "        encodeList = []\n",
    "        for img in images:\n",
    "            img = cv2.cvtColor(img, cv2.COLOR_BGR2RGB)\n",
    "            encoded_face = face_recognition.face_encodings(img)[0]\n",
    "            encodeList.append(encoded_face)\n",
    "        return encodeList\n",
    "    encoded_face_train = findEncodings(images)\n",
    "\n",
    "\n",
    "    def markAttendance(name):\n",
    "        with open('Attendance.csv','r+') as f:\n",
    "            myDataList = f.readlines()\n",
    "            nameList = []\n",
    "            for line in myDataList:\n",
    "                entry = line.split(',')\n",
    "                nameList.append(entry[0])\n",
    "            if name not in nameList:\n",
    "                now = datetime.now()\n",
    "                time = now.strftime('%I:%M:%S:%p')\n",
    "                date = now.strftime('%d-%B-%Y')\n",
    "                f.writelines(f'{name}, {time}, {date},\\n')\n",
    "\n",
    "\n",
    "    # take pictures from webcam \n",
    "    cap  = cv2.VideoCapture(0)\n",
    "    while (True):\n",
    "        success, img = cap.read()\n",
    "        imgS = cv2.resize(img, (0,0), None, 0.25,0.25)\n",
    "        imgS = cv2.cvtColor(imgS, cv2.COLOR_BGR2RGB)\n",
    "        faces_in_frame = face_recognition.face_locations(imgS)\n",
    "        encoded_faces = face_recognition.face_encodings(imgS, faces_in_frame)\n",
    "        for encode_face, faceloc in zip(encoded_faces,faces_in_frame):\n",
    "            matches = face_recognition.compare_faces(encoded_face_train, encode_face)\n",
    "            faceDist = face_recognition.face_distance(encoded_face_train, encode_face)\n",
    "            matchIndex = np.argmin(faceDist)\n",
    "            print(matchIndex)\n",
    "            if matches[matchIndex]:\n",
    "                name = classNames[matchIndex].upper().lower()\n",
    "                y1,x2,y2,x1 = faceloc\n",
    "                # since we scaled down by 4 times\n",
    "                y1, x2,y2,x1 = y1*4,x2*4,y2*4,x1*4\n",
    "                cv2.rectangle(img,(x1,y1),(x2,y2),(0,255,0),2)\n",
    "                cv2.rectangle(img, (x1,y2-35),(x2,y2), (0,255,0), cv2.FILLED)\n",
    "                cv2.putText(img,name, (x1+6,y2-5), cv2.FONT_HERSHEY_COMPLEX,1,(255,255,255),2)\n",
    "                markAttendance(name)\n",
    "        cv2.imshow('webcam', img)\n",
    "        if cv2.waitKey(1) & 0xFF == ord('q'):\n",
    "            break\n",
    "    cap.release()\n",
    "    cv2.destroyAllWindows()\n"
   ]
  },
  {
   "cell_type": "code",
   "execution_count": 8,
   "id": "39f36807-b2e2-47d0-9ffb-589e4cd8d71a",
   "metadata": {
    "tags": []
   },
   "outputs": [
    {
     "name": "stdout",
     "output_type": "stream",
     "text": [
      "0\n",
      "Empty DataFrame\n",
      "Columns: [Name\tTime\tDate]\n",
      "Index: []\n"
     ]
    }
   ],
   "source": [
    "import pandas as pd\n",
    "df=pd.read_csv(\"Attendance.csv\")\n",
    "df\n",
    "row_count = df.shape[0]\n",
    "print(row_count)\n",
    "print(df)"
   ]
  },
  {
   "cell_type": "code",
   "execution_count": 9,
   "id": "57d165d2-4bf2-4602-9a20-76a18c04566f",
   "metadata": {
    "tags": []
   },
   "outputs": [],
   "source": [
    "path = 'E:\\d\\project - 5 ( Machine Learning Project )\\Python Codes\\Project\\dada_set'\n",
    "\n",
    "images = []\n",
    "classNames = []\n",
    "mylist  = os.listdir(path)\n",
    "\n",
    "for cl in mylist:\n",
    "    curImg = cv2.imread(f'{path}/{cl}')\n",
    "    images.append(curImg)\n",
    "    classNames.append(os.path.splitext(cl)[0])\n"
   ]
  },
  {
   "cell_type": "code",
   "execution_count": null,
   "id": "3d4781ad-6c1f-42ee-9cae-01e16c1a9716",
   "metadata": {
    "tags": []
   },
   "outputs": [
    {
     "name": "stdout",
     "output_type": "stream",
     "text": [
      "1\n",
      "1\n",
      "1\n",
      "1\n",
      "1\n",
      "1\n",
      "2\n",
      "2\n",
      "2\n",
      "2\n"
     ]
    }
   ],
   "source": [
    "from tkinter import *\n",
    "from tkinter.ttk import *\n",
    "import tkinter as tk\n",
    "import tkinter.font as tkFont\n",
    "import csv\n",
    "filepath= 'E:\\d\\project - 5 ( Machine Learning Project )\\Python Codes\\Project\\Attendance.csv'\n",
    "File = open(filepath)\n",
    "Reader = csv.reader(File)\n",
    "Data = list(Reader)\n",
    "class App:\n",
    "    \n",
    "    def __init__(self, root):\n",
    "        #setting title\n",
    "        root.title(\"Face Recognition Attendance System\")\n",
    "        #setting window size\n",
    "        #width=600\n",
    "        #height=500\n",
    "        #screenwidth = root.winfo_screenwidth()\n",
    "        #screenheight = root.winfo_screenheight()\n",
    "        #alignstr = '%dx%d+%d+%d' % (width, height, (screenwidth - width) / 2, (screenheight - height) / 2)\n",
    "        #root.geometry(alignstr)\n",
    "        root.geometry(\"900x500\")\n",
    "        root.resizable(width=False, height=False)\n",
    "        \n",
    "        GLabel_72=tk.Label(root)\n",
    "        ft = tkFont.Font(family='Times',size=23)\n",
    "        GLabel_72[\"font\"] = ft\n",
    "        GLabel_72[\"fg\"] = \"#333333\"\n",
    "        GLabel_72[\"justify\"] = \"center\"\n",
    "        GLabel_72[\"text\"] = \"Face Recognition Attendance System\"\n",
    "        GLabel_72[\"relief\"] = \"ridge\"\n",
    "        GLabel_72.place(x=0,y=0,width=601,height=85)\n",
    "\n",
    "        GButton_343=tk.Button(root)\n",
    "        GButton_343[\"bg\"] = \"#ffffff\"\n",
    "        ft = tkFont.Font(family='Times',size=16)\n",
    "        GButton_343[\"font\"] = ft\n",
    "        GButton_343[\"fg\"] = \"#000000\"\n",
    "        GButton_343[\"justify\"] = \"center\"\n",
    "        GButton_343[\"text\"] = \"Start Attendance\"\n",
    "        GButton_343.place(x=140,y=120,width=315,height=126)\n",
    "        GButton_343[\"command\"] = self.GButton_343_command\n",
    "\n",
    "        GButton_303=tk.Button(root)\n",
    "        GButton_303[\"bg\"] = \"#fbfbfb\"\n",
    "        ft = tkFont.Font(family='Times',size=16)\n",
    "        GButton_303[\"font\"] = ft\n",
    "        GButton_303[\"fg\"] = \"#000000\"\n",
    "        GButton_303[\"justify\"] = \"center\"\n",
    "        GButton_303[\"text\"] = \"Check Attendance\"\n",
    "        GButton_303.place(x=140,y=300,width=313,height=127)\n",
    "        GButton_303[\"command\"] = CheckAttenWindow\n",
    "        \n",
    "           \n",
    "        \n",
    "    def GButton_343_command(self):\n",
    "        AttenCall()\n",
    "\n",
    "\n",
    "\n",
    "def CheckAttenWindow():\n",
    "    top = Toplevel()\n",
    "    top.title(\"Attendance\")\n",
    "            \n",
    "    list_of_entries = []\n",
    "    for x in list(range(0,len(Data))):\n",
    "        list_of_entries.append(Data[x][0])\n",
    "    listbox1 = Listbox(top)\n",
    "    for x,y in enumerate(list_of_entries):\n",
    "        listbox1.insert(x,y)\n",
    "    listbox1.grid(row=0,column=0)   \n",
    "\n",
    "if __name__ == \"__main__\":\n",
    "    \n",
    "    root = tk.Tk()\n",
    "    app = App(root)\n",
    "    root.mainloop()"
   ]
  },
  {
   "cell_type": "code",
   "execution_count": null,
   "id": "752bfede-bbcc-4710-ad1e-3296cc413e68",
   "metadata": {},
   "outputs": [],
   "source": []
  },
  {
   "cell_type": "code",
   "execution_count": null,
   "id": "f1b45a2d-bb1d-4afa-9148-b14b0f80e632",
   "metadata": {},
   "outputs": [],
   "source": []
  }
 ],
 "metadata": {
  "kernelspec": {
   "display_name": "Python 3 (ipykernel)",
   "language": "python",
   "name": "python3"
  },
  "language_info": {
   "codemirror_mode": {
    "name": "ipython",
    "version": 3
   },
   "file_extension": ".py",
   "mimetype": "text/x-python",
   "name": "python",
   "nbconvert_exporter": "python",
   "pygments_lexer": "ipython3",
   "version": "3.10.9"
  }
 },
 "nbformat": 4,
 "nbformat_minor": 5
}
